{
 "cells": [
  {
   "cell_type": "code",
   "execution_count": 11,
   "metadata": {},
   "outputs": [
    {
     "name": "stdout",
     "output_type": "stream",
     "text": [
      "<bound method NDFrame.head of               elec_id     country  ccode  year  presidential  \\\n",
      "0      L-ALB-2005-7-3     Albania    339  2005             0   \n",
      "1     L-ALB-2009-6-28     Albania    339  2009             0   \n",
      "2     L-ALB-2013-6-23     Albania    339  2013             0   \n",
      "3     L-ALB-2017-6-25     Albania    339  2017             0   \n",
      "4     L-ARG-1985-11-3   Argentina    160  1985             0   \n",
      "..                ...         ...    ...   ...           ...   \n",
      "788  L-SYC-2020-10-22  Seychelles    591  2020             0   \n",
      "789  L-TUN-2014-10-26     Tunisia    616  2014             0   \n",
      "790   L-TUN-2019-10-6     Tunisia    616  2019             0   \n",
      "791  L-ZAM-2001-12-27      Zambia    551  2001             0   \n",
      "792   L-ZAM-2006-9-28      Zambia    551  2006             0   \n",
      "\n",
      "                   date  legislative_type  elecrule  tier1_formula  \\\n",
      "0         July 03, 2005               3.0      11.0            1.0   \n",
      "1         June 28, 2009               2.0       9.0           25.0   \n",
      "2         June 23, 2013               2.0       9.0           25.0   \n",
      "3         June 25, 2017               2.0       9.0           25.0   \n",
      "4     November 03, 1985               2.0       9.0           25.0   \n",
      "..                  ...               ...       ...            ...   \n",
      "788    October 22, 2020               3.0      12.0            1.0   \n",
      "789    October 26, 2014               2.0       9.0           13.0   \n",
      "790     October 6, 2019               2.0       9.0           13.0   \n",
      "791   December 27, 2001               1.0       1.0            1.0   \n",
      "792  September 28, 2006               1.0       1.0            1.0   \n",
      "\n",
      "     tier2_formula  ...     enpp1  dd_democracy  bmr_democracy  fh_democracy  \\\n",
      "0             13.0  ...  3.750359             1            1.0           0.0   \n",
      "1              NaN  ...  2.600000             1            1.0           0.0   \n",
      "2              NaN  ...  2.796804             1            1.0           0.0   \n",
      "3              NaN  ...  2.546778             1            NaN           0.0   \n",
      "4              NaN  ...  3.360000             1            1.0           1.0   \n",
      "..             ...  ...       ...           ...            ...           ...   \n",
      "788            NaN  ...  1.690000             1            NaN           1.0   \n",
      "789            NaN  ...  3.692000             1            0.0           1.0   \n",
      "790            NaN  ...  8.045000             1            NaN           1.0   \n",
      "791            NaN  ...  3.003000             1            0.0           0.0   \n",
      "792            NaN  ...  2.838000             1            0.0           0.0   \n",
      "\n",
      "     p5_democracy  vd_polyarchy  tier1_EffElecThrsh       e_area  e_gdppc  \\\n",
      "0             1.0             1            0.375000    28680.714    6.668   \n",
      "1             1.0             1            0.059195    28680.714    8.679   \n",
      "2             1.0             1            0.059195    28680.714    9.580   \n",
      "3             1.0             1            0.059195    28680.714   10.684   \n",
      "4             1.0             1            0.119237  2787442.098    8.426   \n",
      "..            ...           ...                 ...          ...      ...   \n",
      "788           NaN             1            0.375000      380.173      NaN   \n",
      "789           1.0             1            0.098945   155771.466   10.748   \n",
      "790           NaN             1            0.098945   155771.466   10.859   \n",
      "791           0.0             1            0.375000   756428.205    1.497   \n",
      "792           0.0             1            0.375000   756428.205    1.990   \n",
      "\n",
      "       e_wb_pop  \n",
      "0     3011487.0  \n",
      "1     2927519.0  \n",
      "2     2895092.0  \n",
      "3     2873457.0  \n",
      "4    30216284.0  \n",
      "..          ...  \n",
      "788     98462.0  \n",
      "789  11063195.0  \n",
      "790  11694721.0  \n",
      "791  10692197.0  \n",
      "792  12173518.0  \n",
      "\n",
      "[793 rows x 32 columns]>\n"
     ]
    }
   ],
   "source": [
    "#Importing both datasets\n",
    "import pandas as pd \n",
    "\n",
    "Vdemdata = pd.read_csv(\"/Users/matthewrisley/Desktop/Senior Thesis /Cleaning Dataframes/testingVdemControls.csv\")\n",
    "DESdata = pd.read_csv(\"/Users/matthewrisley/Desktop/Senior Thesis /Cleaning Dataframes/SecondCleanedDESDATA.csv\")\n",
    "\n",
    "merged_dataframe = pd.merge(DESdata, Vdemdata, how = 'left', on=['ccode', 'year'])\n",
    "\n",
    "print(merged_dataframe.head)\n",
    "\n",
    "merged_dataframe.to_csv('/Users/matthewrisley/Desktop/Senior Thesis /Cleaning Dataframes/MergedDES-VDEMData.csv', index=False)\n"
   ]
  }
 ],
 "metadata": {
  "kernelspec": {
   "display_name": "Python 3",
   "language": "python",
   "name": "python3"
  },
  "language_info": {
   "codemirror_mode": {
    "name": "ipython",
    "version": 3
   },
   "file_extension": ".py",
   "mimetype": "text/x-python",
   "name": "python",
   "nbconvert_exporter": "python",
   "pygments_lexer": "ipython3",
   "version": "3.11.3"
  },
  "orig_nbformat": 4
 },
 "nbformat": 4,
 "nbformat_minor": 2
}
